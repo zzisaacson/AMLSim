{
 "cells": [
  {
   "cell_type": "code",
   "execution_count": 2,
   "metadata": {},
   "outputs": [],
   "source": [
    "import pandas as pd, os, sys"
   ]
  },
  {
   "cell_type": "code",
   "execution_count": 3,
   "metadata": {},
   "outputs": [
    {
     "data": {
      "text/plain": [
       "'/Users/zachisaacson/git/AMLSim'"
      ]
     },
     "execution_count": 3,
     "metadata": {},
     "output_type": "execute_result"
    }
   ],
   "source": [
    "os.getcwd()"
   ]
  },
  {
   "cell_type": "markdown",
   "metadata": {},
   "source": [
    "# text note"
   ]
  },
  {
   "cell_type": "code",
   "execution_count": 4,
   "metadata": {},
   "outputs": [],
   "source": [
    "txn_df = pd.read_csv('outputs/sample/transactions.csv')\n",
    "accounts_df = pd.read_csv('outputs/sample/accounts.csv')"
   ]
  },
  {
   "cell_type": "code",
   "execution_count": 5,
   "metadata": {},
   "outputs": [
    {
     "data": {
      "text/html": [
       "<div>\n",
       "<style scoped>\n",
       "    .dataframe tbody tr th:only-of-type {\n",
       "        vertical-align: middle;\n",
       "    }\n",
       "\n",
       "    .dataframe tbody tr th {\n",
       "        vertical-align: top;\n",
       "    }\n",
       "\n",
       "    .dataframe thead th {\n",
       "        text-align: right;\n",
       "    }\n",
       "</style>\n",
       "<table border=\"1\" class=\"dataframe\">\n",
       "  <thead>\n",
       "    <tr style=\"text-align: right;\">\n",
       "      <th></th>\n",
       "      <th>tran_id</th>\n",
       "      <th>orig_acct</th>\n",
       "      <th>bene_acct</th>\n",
       "      <th>tx_type</th>\n",
       "      <th>base_amt</th>\n",
       "      <th>tran_timestamp</th>\n",
       "      <th>is_sar</th>\n",
       "      <th>alert_id</th>\n",
       "    </tr>\n",
       "  </thead>\n",
       "  <tbody>\n",
       "    <tr>\n",
       "      <th>0</th>\n",
       "      <td>1</td>\n",
       "      <td>3024</td>\n",
       "      <td>3248</td>\n",
       "      <td>TRANSFER</td>\n",
       "      <td>100.0</td>\n",
       "      <td>2017-01-01T00:00:00Z</td>\n",
       "      <td>False</td>\n",
       "      <td>-1</td>\n",
       "    </tr>\n",
       "    <tr>\n",
       "      <th>1</th>\n",
       "      <td>2</td>\n",
       "      <td>6154</td>\n",
       "      <td>5266</td>\n",
       "      <td>TRANSFER</td>\n",
       "      <td>100.0</td>\n",
       "      <td>2017-01-01T00:00:00Z</td>\n",
       "      <td>False</td>\n",
       "      <td>-1</td>\n",
       "    </tr>\n",
       "    <tr>\n",
       "      <th>2</th>\n",
       "      <td>3</td>\n",
       "      <td>8674</td>\n",
       "      <td>3646</td>\n",
       "      <td>TRANSFER</td>\n",
       "      <td>100.0</td>\n",
       "      <td>2017-01-01T00:00:00Z</td>\n",
       "      <td>False</td>\n",
       "      <td>-1</td>\n",
       "    </tr>\n",
       "    <tr>\n",
       "      <th>3</th>\n",
       "      <td>4</td>\n",
       "      <td>5774</td>\n",
       "      <td>3308</td>\n",
       "      <td>TRANSFER</td>\n",
       "      <td>100.0</td>\n",
       "      <td>2017-01-01T00:00:00Z</td>\n",
       "      <td>False</td>\n",
       "      <td>-1</td>\n",
       "    </tr>\n",
       "    <tr>\n",
       "      <th>4</th>\n",
       "      <td>5</td>\n",
       "      <td>7568</td>\n",
       "      <td>385</td>\n",
       "      <td>TRANSFER</td>\n",
       "      <td>100.0</td>\n",
       "      <td>2017-01-01T00:00:00Z</td>\n",
       "      <td>False</td>\n",
       "      <td>-1</td>\n",
       "    </tr>\n",
       "  </tbody>\n",
       "</table>\n",
       "</div>"
      ],
      "text/plain": [
       "   tran_id  orig_acct  bene_acct   tx_type  base_amt        tran_timestamp  \\\n",
       "0        1       3024       3248  TRANSFER     100.0  2017-01-01T00:00:00Z   \n",
       "1        2       6154       5266  TRANSFER     100.0  2017-01-01T00:00:00Z   \n",
       "2        3       8674       3646  TRANSFER     100.0  2017-01-01T00:00:00Z   \n",
       "3        4       5774       3308  TRANSFER     100.0  2017-01-01T00:00:00Z   \n",
       "4        5       7568        385  TRANSFER     100.0  2017-01-01T00:00:00Z   \n",
       "\n",
       "   is_sar  alert_id  \n",
       "0   False        -1  \n",
       "1   False        -1  \n",
       "2   False        -1  \n",
       "3   False        -1  \n",
       "4   False        -1  "
      ]
     },
     "execution_count": 5,
     "metadata": {},
     "output_type": "execute_result"
    }
   ],
   "source": [
    "txn_df.head()"
   ]
  },
  {
   "cell_type": "code",
   "execution_count": null,
   "metadata": {},
   "outputs": [],
   "source": [
    "txn_df[txn_df['is_sar']]"
   ]
  },
  {
   "cell_type": "code",
   "execution_count": null,
   "metadata": {},
   "outputs": [],
   "source": [
    "accounts_df.shape"
   ]
  },
  {
   "cell_type": "code",
   "execution_count": null,
   "metadata": {},
   "outputs": [],
   "source": [
    "accounts_df.columns"
   ]
  },
  {
   "cell_type": "code",
   "execution_count": null,
   "metadata": {},
   "outputs": [],
   "source": [
    "accounts_df.iloc[0]"
   ]
  },
  {
   "cell_type": "code",
   "execution_count": null,
   "metadata": {},
   "outputs": [],
   "source": []
  }
 ],
 "metadata": {
  "kernelspec": {
   "display_name": "Python 3",
   "language": "python",
   "name": "python3"
  },
  "language_info": {
   "codemirror_mode": {
    "name": "ipython",
    "version": 3
   },
   "file_extension": ".py",
   "mimetype": "text/x-python",
   "name": "python",
   "nbconvert_exporter": "python",
   "pygments_lexer": "ipython3",
   "version": "3.7.3"
  }
 },
 "nbformat": 4,
 "nbformat_minor": 4
}
